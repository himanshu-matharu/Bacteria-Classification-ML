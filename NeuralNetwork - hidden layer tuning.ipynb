{
 "cells": [
  {
   "cell_type": "code",
   "execution_count": 1,
   "id": "604b81fc",
   "metadata": {
    "ExecuteTime": {
     "end_time": "2022-04-16T13:50:51.220168Z",
     "start_time": "2022-04-16T13:50:48.164054Z"
    }
   },
   "outputs": [
    {
     "name": "stderr",
     "output_type": "stream",
     "text": [
      "/Users/himanshu/miniforge3/lib/python3.9/site-packages/xgboost/compat.py:36: FutureWarning: pandas.Int64Index is deprecated and will be removed from pandas in a future version. Use pandas.Index with the appropriate dtype instead.\n",
      "  from pandas import MultiIndex, Int64Index\n"
     ]
    }
   ],
   "source": [
    "import tensorflow\n",
    "import pandas as pd\n",
    "import numpy as np\n",
    "\n",
    "from sklearn.metrics import accuracy_score, roc_auc_score, confusion_matrix, roc_curve\n",
    "from sklearn.preprocessing import LabelEncoder\n",
    "from sklearn.model_selection import GridSearchCV, train_test_split\n",
    "from xgboost import XGBClassifier\n",
    "from sklearn.ensemble import ExtraTreesClassifier\n",
    "from keras.models import Model\n",
    "from keras.layers import Dense, Input, Dropout\n",
    "from tensorflow.keras.utils import to_categorical\n",
    "from keras import regularizers\n",
    "import tensorflow as tf\n",
    "\n",
    "tf.config.run_functions_eagerly(True)"
   ]
  },
  {
   "cell_type": "code",
   "execution_count": 3,
   "id": "638d24da",
   "metadata": {
    "ExecuteTime": {
     "end_time": "2022-04-16T13:51:04.065234Z",
     "start_time": "2022-04-16T13:50:58.183011Z"
    }
   },
   "outputs": [],
   "source": [
    "data = pd.read_csv('data.csv', index_col = 'row_id')"
   ]
  },
  {
   "cell_type": "markdown",
   "id": "6e4f3490",
   "metadata": {},
   "source": [
    "## Preprocessing"
   ]
  },
  {
   "cell_type": "code",
   "execution_count": 5,
   "id": "8b3b1851",
   "metadata": {
    "ExecuteTime": {
     "end_time": "2022-04-16T13:51:05.452747Z",
     "start_time": "2022-04-16T13:51:05.395892Z"
    }
   },
   "outputs": [],
   "source": [
    "encoder = LabelEncoder()\n",
    "data['target'] = encoder.fit_transform(data['target'])"
   ]
  },
  {
   "cell_type": "code",
   "execution_count": 6,
   "id": "4a68faf1",
   "metadata": {
    "ExecuteTime": {
     "end_time": "2022-04-16T13:51:06.672039Z",
     "start_time": "2022-04-16T13:51:06.440722Z"
    }
   },
   "outputs": [],
   "source": [
    "train, test = train_test_split(data,\n",
    "                            test_size=0.2,\n",
    "                            stratify=data['target'],\n",
    "                            random_state=42)"
   ]
  },
  {
   "cell_type": "code",
   "execution_count": 7,
   "id": "3516fd1e",
   "metadata": {
    "ExecuteTime": {
     "end_time": "2022-04-16T13:51:15.185183Z",
     "start_time": "2022-04-16T13:51:07.243534Z"
    }
   },
   "outputs": [],
   "source": [
    "train2 = pd.DataFrame(\n",
    "    [list(tup) for tup in train.value_counts().index.values], \n",
    "    columns=train.columns\n",
    ")"
   ]
  },
  {
   "cell_type": "code",
   "execution_count": 8,
   "id": "eec2eba5",
   "metadata": {
    "ExecuteTime": {
     "end_time": "2022-04-16T13:51:16.559632Z",
     "start_time": "2022-04-16T13:51:15.186713Z"
    }
   },
   "outputs": [],
   "source": [
    "train2['sample_weight'] = train.value_counts().values"
   ]
  },
  {
   "cell_type": "code",
   "execution_count": 9,
   "id": "1102ce13",
   "metadata": {
    "ExecuteTime": {
     "end_time": "2022-04-16T13:51:16.596364Z",
     "start_time": "2022-04-16T13:51:16.560390Z"
    }
   },
   "outputs": [],
   "source": [
    "Xtrain = train2.drop(['target','sample_weight'],axis=1)\n",
    "ytrain = train2['target']\n",
    "class_weights = train2['sample_weight']"
   ]
  },
  {
   "cell_type": "code",
   "execution_count": 10,
   "id": "437fef53",
   "metadata": {
    "ExecuteTime": {
     "end_time": "2022-04-16T13:51:17.677580Z",
     "start_time": "2022-04-16T13:51:17.630863Z"
    }
   },
   "outputs": [],
   "source": [
    "Xtest = test.drop('target',axis=1)\n",
    "ytest = test['target']"
   ]
  },
  {
   "cell_type": "code",
   "execution_count": 11,
   "id": "1676af62",
   "metadata": {
    "ExecuteTime": {
     "end_time": "2022-04-16T13:51:18.431048Z",
     "start_time": "2022-04-16T13:51:18.427392Z"
    }
   },
   "outputs": [
    {
     "name": "stdout",
     "output_type": "stream",
     "text": [
      "Number of values in train: 104996\n",
      "Number of values in test: 40000\n"
     ]
    }
   ],
   "source": [
    "print(\"Number of values in train:\",Xtrain.shape[0])\n",
    "print(\"Number of values in test:\",Xtest.shape[0])"
   ]
  },
  {
   "cell_type": "markdown",
   "id": "235a885c",
   "metadata": {},
   "source": [
    "## Number of hidden layers"
   ]
  },
  {
   "cell_type": "code",
   "execution_count": 12,
   "id": "22f875d6",
   "metadata": {
    "ExecuteTime": {
     "end_time": "2022-04-16T13:51:50.490692Z",
     "start_time": "2022-04-16T13:51:50.484683Z"
    }
   },
   "outputs": [],
   "source": [
    "ytrain2 = to_categorical(ytrain, num_classes=10)"
   ]
  },
  {
   "cell_type": "code",
   "execution_count": 14,
   "id": "fdee106e",
   "metadata": {
    "ExecuteTime": {
     "end_time": "2022-04-16T13:54:50.258904Z",
     "start_time": "2022-04-16T13:54:49.754208Z"
    }
   },
   "outputs": [
    {
     "name": "stdout",
     "output_type": "stream",
     "text": [
      "Metal device set to: Apple M1\n"
     ]
    },
    {
     "name": "stderr",
     "output_type": "stream",
     "text": [
      "2022-04-16 09:54:49.782677: I tensorflow/core/common_runtime/pluggable_device/pluggable_device_factory.cc:305] Could not identify NUMA node of platform GPU ID 0, defaulting to 0. Your kernel may not have been built with NUMA support.\n",
      "2022-04-16 09:54:49.783163: I tensorflow/core/common_runtime/pluggable_device/pluggable_device_factory.cc:271] Created TensorFlow device (/job:localhost/replica:0/task:0/device:GPU:0 with 0 MB memory) -> physical PluggableDevice (device: 0, name: METAL, pci bus id: <undefined>)\n"
     ]
    }
   ],
   "source": [
    "# Model to test 1 hidden layer\n",
    "\n",
    "input_seq = Input(shape=Xtrain.shape[1])\n",
    "hidden = Dense(143,activation='tanh')(input_seq)\n",
    "output_seq = Dense(10,activation='softmax')(hidden)\n",
    "\n",
    "model = Model(input_seq,output_seq)\n",
    "model.compile(optimizer='adam',loss='categorical_crossentropy',metrics=['accuracy'])"
   ]
  },
  {
   "cell_type": "code",
   "execution_count": 15,
   "id": "4bed846c",
   "metadata": {
    "ExecuteTime": {
     "end_time": "2022-04-16T14:02:35.777965Z",
     "start_time": "2022-04-16T13:55:22.251054Z"
    }
   },
   "outputs": [
    {
     "name": "stderr",
     "output_type": "stream",
     "text": [
      "/Users/himanshu/miniforge3/lib/python3.9/site-packages/tensorflow/python/data/ops/structured_function.py:264: UserWarning: Even though the `tf.config.experimental_run_functions_eagerly` option is set, this option does not apply to tf.data functions. To force eager execution of tf.data functions, please use `tf.data.experimental.enable_debug_mode()`.\n",
      "  warnings.warn(\n"
     ]
    },
    {
     "name": "stdout",
     "output_type": "stream",
     "text": [
      "Epoch 1/10\n"
     ]
    },
    {
     "name": "stderr",
     "output_type": "stream",
     "text": [
      "/Users/himanshu/miniforge3/lib/python3.9/site-packages/tensorflow/python/data/ops/structured_function.py:264: UserWarning: Even though the `tf.config.experimental_run_functions_eagerly` option is set, this option does not apply to tf.data functions. To force eager execution of tf.data functions, please use `tf.data.experimental.enable_debug_mode()`.\n",
      "  warnings.warn(\n",
      "2022-04-16 09:55:27.121124: W tensorflow/core/platform/profile_utils/cpu_utils.cc:128] Failed to get CPU frequency: 0 Hz\n"
     ]
    },
    {
     "name": "stdout",
     "output_type": "stream",
     "text": [
      "3282/3282 [==============================] - 45s 13ms/step - loss: 2.0124 - accuracy: 0.5640\n",
      "Epoch 2/10\n",
      "3282/3282 [==============================] - 42s 13ms/step - loss: 1.3567 - accuracy: 0.7660\n",
      "Epoch 3/10\n",
      "3282/3282 [==============================] - 43s 13ms/step - loss: 1.1671 - accuracy: 0.8027\n",
      "Epoch 4/10\n",
      "3282/3282 [==============================] - 42s 13ms/step - loss: 1.0784 - accuracy: 0.8249\n",
      "Epoch 5/10\n",
      "3282/3282 [==============================] - 42s 13ms/step - loss: 1.0236 - accuracy: 0.8393\n",
      "Epoch 6/10\n",
      "3282/3282 [==============================] - 42s 13ms/step - loss: 0.9855 - accuracy: 0.8479\n",
      "Epoch 7/10\n",
      "3282/3282 [==============================] - 43s 13ms/step - loss: 0.9563 - accuracy: 0.8554\n",
      "Epoch 8/10\n",
      "3282/3282 [==============================] - 43s 13ms/step - loss: 0.9339 - accuracy: 0.8607\n",
      "Epoch 9/10\n",
      "3282/3282 [==============================] - 43s 13ms/step - loss: 0.9154 - accuracy: 0.8636\n",
      "Epoch 10/10\n",
      "3282/3282 [==============================] - 43s 13ms/step - loss: 0.8985 - accuracy: 0.8675\n"
     ]
    },
    {
     "data": {
      "text/plain": [
       "<keras.callbacks.History at 0x283bc7790>"
      ]
     },
     "execution_count": 15,
     "metadata": {},
     "output_type": "execute_result"
    }
   ],
   "source": [
    "model.fit(Xtrain,ytrain2,sample_weight=class_weights, epochs=10, verbose=1)"
   ]
  },
  {
   "cell_type": "code",
   "execution_count": 16,
   "id": "16d12103",
   "metadata": {
    "ExecuteTime": {
     "end_time": "2022-04-16T14:02:47.933162Z",
     "start_time": "2022-04-16T14:02:35.779915Z"
    }
   },
   "outputs": [
    {
     "name": "stderr",
     "output_type": "stream",
     "text": [
      "/Users/himanshu/miniforge3/lib/python3.9/site-packages/tensorflow/python/data/ops/structured_function.py:264: UserWarning: Even though the `tf.config.experimental_run_functions_eagerly` option is set, this option does not apply to tf.data functions. To force eager execution of tf.data functions, please use `tf.data.experimental.enable_debug_mode()`.\n",
      "  warnings.warn(\n"
     ]
    }
   ],
   "source": [
    "ypred_train = np.argmax(model.predict(Xtrain),axis=1)"
   ]
  },
  {
   "cell_type": "code",
   "execution_count": 17,
   "id": "84595987",
   "metadata": {
    "ExecuteTime": {
     "end_time": "2022-04-16T14:02:51.779709Z",
     "start_time": "2022-04-16T14:02:47.934021Z"
    }
   },
   "outputs": [
    {
     "name": "stderr",
     "output_type": "stream",
     "text": [
      "/Users/himanshu/miniforge3/lib/python3.9/site-packages/tensorflow/python/data/ops/structured_function.py:264: UserWarning: Even though the `tf.config.experimental_run_functions_eagerly` option is set, this option does not apply to tf.data functions. To force eager execution of tf.data functions, please use `tf.data.experimental.enable_debug_mode()`.\n",
      "  warnings.warn(\n"
     ]
    }
   ],
   "source": [
    "ypred_test = np.argmax(model.predict(Xtest),axis=1)"
   ]
  },
  {
   "cell_type": "code",
   "execution_count": 18,
   "id": "31c4c9b1",
   "metadata": {
    "ExecuteTime": {
     "end_time": "2022-04-16T14:02:51.787642Z",
     "start_time": "2022-04-16T14:02:51.780877Z"
    }
   },
   "outputs": [
    {
     "name": "stdout",
     "output_type": "stream",
     "text": [
      "Training Accuracy:\t 0.8683949864756753\n",
      "Testing Accuracy:\t 0.834225\n"
     ]
    }
   ],
   "source": [
    "print(\"Training Accuracy:\\t\",accuracy_score(ytrain,ypred_train))\n",
    "print(\"Testing Accuracy:\\t\",accuracy_score(ytest,ypred_test))"
   ]
  },
  {
   "cell_type": "code",
   "execution_count": null,
   "id": "f586a163",
   "metadata": {},
   "outputs": [],
   "source": []
  },
  {
   "cell_type": "code",
   "execution_count": 19,
   "id": "659b75f0",
   "metadata": {
    "ExecuteTime": {
     "end_time": "2022-04-16T14:02:58.796131Z",
     "start_time": "2022-04-16T14:02:58.737206Z"
    }
   },
   "outputs": [],
   "source": [
    "# Model to test 2 hidden layers\n",
    "\n",
    "input_seq = Input(shape=Xtrain.shape[1])\n",
    "hidden = Dense(200, activation='tanh')(input_seq)\n",
    "hidden2 = Dense(105,activation='tanh')(hidden)\n",
    "output_seq = Dense(10,activation='softmax')(hidden2)\n",
    "\n",
    "model = Model(input_seq,output_seq)\n",
    "model.compile(optimizer='adam', loss='categorical_crossentropy',metrics=['accuracy'])"
   ]
  },
  {
   "cell_type": "code",
   "execution_count": 20,
   "id": "7a7dc85b",
   "metadata": {
    "ExecuteTime": {
     "end_time": "2022-04-16T14:10:57.771143Z",
     "start_time": "2022-04-16T14:03:00.980752Z"
    }
   },
   "outputs": [
    {
     "name": "stderr",
     "output_type": "stream",
     "text": [
      "/Users/himanshu/miniforge3/lib/python3.9/site-packages/tensorflow/python/data/ops/structured_function.py:264: UserWarning: Even though the `tf.config.experimental_run_functions_eagerly` option is set, this option does not apply to tf.data functions. To force eager execution of tf.data functions, please use `tf.data.experimental.enable_debug_mode()`.\n",
      "  warnings.warn(\n"
     ]
    },
    {
     "name": "stdout",
     "output_type": "stream",
     "text": [
      "Epoch 1/10\n",
      "   4/3282 [..............................] - ETA: 54s - loss: 3.5767 - accuracy: 0.1250 "
     ]
    },
    {
     "name": "stderr",
     "output_type": "stream",
     "text": [
      "/Users/himanshu/miniforge3/lib/python3.9/site-packages/tensorflow/python/data/ops/structured_function.py:264: UserWarning: Even though the `tf.config.experimental_run_functions_eagerly` option is set, this option does not apply to tf.data functions. To force eager execution of tf.data functions, please use `tf.data.experimental.enable_debug_mode()`.\n",
      "  warnings.warn(\n"
     ]
    },
    {
     "name": "stdout",
     "output_type": "stream",
     "text": [
      "3282/3282 [==============================] - 47s 14ms/step - loss: 1.5389 - accuracy: 0.6760\n",
      "Epoch 2/10\n",
      "3282/3282 [==============================] - 47s 14ms/step - loss: 1.0883 - accuracy: 0.8211\n",
      "Epoch 3/10\n",
      "3282/3282 [==============================] - 47s 14ms/step - loss: 0.9878 - accuracy: 0.8461\n",
      "Epoch 4/10\n",
      "3282/3282 [==============================] - 47s 14ms/step - loss: 0.8715 - accuracy: 0.8658\n",
      "Epoch 5/10\n",
      "3282/3282 [==============================] - 47s 14ms/step - loss: 0.7600 - accuracy: 0.8830\n",
      "Epoch 6/10\n",
      "3282/3282 [==============================] - 47s 14ms/step - loss: 0.6932 - accuracy: 0.8943\n",
      "Epoch 7/10\n",
      "3282/3282 [==============================] - 47s 14ms/step - loss: 0.6490 - accuracy: 0.8995\n",
      "Epoch 8/10\n",
      "3282/3282 [==============================] - 47s 14ms/step - loss: 0.6157 - accuracy: 0.9049\n",
      "Epoch 9/10\n",
      "3282/3282 [==============================] - 47s 14ms/step - loss: 0.5866 - accuracy: 0.9081\n",
      "Epoch 10/10\n",
      "3282/3282 [==============================] - 47s 14ms/step - loss: 0.5652 - accuracy: 0.9117\n"
     ]
    },
    {
     "data": {
      "text/plain": [
       "<keras.callbacks.History at 0x283dd3400>"
      ]
     },
     "execution_count": 20,
     "metadata": {},
     "output_type": "execute_result"
    }
   ],
   "source": [
    "model.fit(Xtrain,ytrain2,sample_weight=class_weights, epochs=10, verbose=1)"
   ]
  },
  {
   "cell_type": "code",
   "execution_count": 21,
   "id": "695da84a",
   "metadata": {
    "ExecuteTime": {
     "end_time": "2022-04-16T14:11:12.286520Z",
     "start_time": "2022-04-16T14:10:57.772890Z"
    }
   },
   "outputs": [
    {
     "name": "stderr",
     "output_type": "stream",
     "text": [
      "/Users/himanshu/miniforge3/lib/python3.9/site-packages/tensorflow/python/data/ops/structured_function.py:264: UserWarning: Even though the `tf.config.experimental_run_functions_eagerly` option is set, this option does not apply to tf.data functions. To force eager execution of tf.data functions, please use `tf.data.experimental.enable_debug_mode()`.\n",
      "  warnings.warn(\n"
     ]
    }
   ],
   "source": [
    "ypred_train = np.argmax(model.predict(Xtrain),axis=1)"
   ]
  },
  {
   "cell_type": "code",
   "execution_count": 22,
   "id": "f4b8ac98",
   "metadata": {
    "ExecuteTime": {
     "end_time": "2022-04-16T14:11:16.890186Z",
     "start_time": "2022-04-16T14:11:12.287295Z"
    }
   },
   "outputs": [
    {
     "name": "stderr",
     "output_type": "stream",
     "text": [
      "/Users/himanshu/miniforge3/lib/python3.9/site-packages/tensorflow/python/data/ops/structured_function.py:264: UserWarning: Even though the `tf.config.experimental_run_functions_eagerly` option is set, this option does not apply to tf.data functions. To force eager execution of tf.data functions, please use `tf.data.experimental.enable_debug_mode()`.\n",
      "  warnings.warn(\n"
     ]
    }
   ],
   "source": [
    "ypred_test = np.argmax(model.predict(Xtest),axis=1)"
   ]
  },
  {
   "cell_type": "code",
   "execution_count": 23,
   "id": "1879413e",
   "metadata": {
    "ExecuteTime": {
     "end_time": "2022-04-16T14:11:16.903374Z",
     "start_time": "2022-04-16T14:11:16.892124Z"
    }
   },
   "outputs": [
    {
     "name": "stdout",
     "output_type": "stream",
     "text": [
      "Training Accuracy:\t 0.9037106175473352\n",
      "Testing Accuracy:\t 0.8649\n"
     ]
    }
   ],
   "source": [
    "print(\"Training Accuracy:\\t\",accuracy_score(ytrain,ypred_train))\n",
    "print(\"Testing Accuracy:\\t\",accuracy_score(ytest,ypred_test))"
   ]
  },
  {
   "cell_type": "code",
   "execution_count": null,
   "id": "3e634884",
   "metadata": {},
   "outputs": [],
   "source": []
  },
  {
   "cell_type": "code",
   "execution_count": 24,
   "id": "8cc23d7d",
   "metadata": {
    "ExecuteTime": {
     "end_time": "2022-04-16T14:13:28.283212Z",
     "start_time": "2022-04-16T14:13:28.204389Z"
    }
   },
   "outputs": [],
   "source": [
    "# Model to test 3 hidden layers\n",
    "\n",
    "input_seq = Input(shape=Xtrain.shape[1])\n",
    "hidden = Dense(225, activation='tanh')(input_seq)\n",
    "hidden2 = Dense(153,activation='tanh')(hidden)\n",
    "hidden3 = Dense(82,activation='tanh')(hidden2)\n",
    "output_seq = Dense(10,activation='softmax')(hidden3)\n",
    "\n",
    "model = Model(input_seq,output_seq)\n",
    "model.compile(optimizer='adam', loss='categorical_crossentropy',metrics=['accuracy'])"
   ]
  },
  {
   "cell_type": "code",
   "execution_count": 25,
   "id": "acee16b0",
   "metadata": {
    "ExecuteTime": {
     "end_time": "2022-04-16T14:21:58.783405Z",
     "start_time": "2022-04-16T14:13:28.658450Z"
    }
   },
   "outputs": [
    {
     "name": "stderr",
     "output_type": "stream",
     "text": [
      "/Users/himanshu/miniforge3/lib/python3.9/site-packages/tensorflow/python/data/ops/structured_function.py:264: UserWarning: Even though the `tf.config.experimental_run_functions_eagerly` option is set, this option does not apply to tf.data functions. To force eager execution of tf.data functions, please use `tf.data.experimental.enable_debug_mode()`.\n",
      "  warnings.warn(\n",
      "/Users/himanshu/miniforge3/lib/python3.9/site-packages/tensorflow/python/data/ops/structured_function.py:264: UserWarning: Even though the `tf.config.experimental_run_functions_eagerly` option is set, this option does not apply to tf.data functions. To force eager execution of tf.data functions, please use `tf.data.experimental.enable_debug_mode()`.\n",
      "  warnings.warn(\n"
     ]
    },
    {
     "name": "stdout",
     "output_type": "stream",
     "text": [
      "Epoch 1/10\n",
      "3282/3282 [==============================] - 50s 15ms/step - loss: 1.4253 - accuracy: 0.6988\n",
      "Epoch 2/10\n",
      "3282/3282 [==============================] - 51s 15ms/step - loss: 0.8790 - accuracy: 0.8581\n",
      "Epoch 3/10\n",
      "3282/3282 [==============================] - 51s 15ms/step - loss: 0.7182 - accuracy: 0.8830\n",
      "Epoch 4/10\n",
      "3282/3282 [==============================] - 50s 15ms/step - loss: 0.6512 - accuracy: 0.8929\n",
      "Epoch 5/10\n",
      "3282/3282 [==============================] - 50s 15ms/step - loss: 0.6049 - accuracy: 0.8998\n",
      "Epoch 6/10\n",
      "3282/3282 [==============================] - 51s 15ms/step - loss: 0.5754 - accuracy: 0.9037\n",
      "Epoch 7/10\n",
      "3282/3282 [==============================] - 51s 15ms/step - loss: 0.5600 - accuracy: 0.9052\n",
      "Epoch 8/10\n",
      "3282/3282 [==============================] - 51s 15ms/step - loss: 0.5363 - accuracy: 0.9093\n",
      "Epoch 9/10\n",
      "3282/3282 [==============================] - 51s 15ms/step - loss: 0.5207 - accuracy: 0.9118\n",
      "Epoch 10/10\n",
      "3282/3282 [==============================] - 51s 15ms/step - loss: 0.5089 - accuracy: 0.9144\n"
     ]
    },
    {
     "data": {
      "text/plain": [
       "<keras.callbacks.History at 0x325e7aee0>"
      ]
     },
     "execution_count": 25,
     "metadata": {},
     "output_type": "execute_result"
    }
   ],
   "source": [
    "model.fit(Xtrain,ytrain2,sample_weight=class_weights, epochs=10, verbose=1)"
   ]
  },
  {
   "cell_type": "code",
   "execution_count": 26,
   "id": "33b7d00b",
   "metadata": {
    "ExecuteTime": {
     "end_time": "2022-04-16T14:22:12.938620Z",
     "start_time": "2022-04-16T14:21:58.784883Z"
    }
   },
   "outputs": [
    {
     "name": "stderr",
     "output_type": "stream",
     "text": [
      "/Users/himanshu/miniforge3/lib/python3.9/site-packages/tensorflow/python/data/ops/structured_function.py:264: UserWarning: Even though the `tf.config.experimental_run_functions_eagerly` option is set, this option does not apply to tf.data functions. To force eager execution of tf.data functions, please use `tf.data.experimental.enable_debug_mode()`.\n",
      "  warnings.warn(\n"
     ]
    }
   ],
   "source": [
    "ypred_train = np.argmax(model.predict(Xtrain),axis=1)"
   ]
  },
  {
   "cell_type": "code",
   "execution_count": 27,
   "id": "c827e182",
   "metadata": {
    "ExecuteTime": {
     "end_time": "2022-04-16T14:22:17.054599Z",
     "start_time": "2022-04-16T14:22:12.939328Z"
    }
   },
   "outputs": [
    {
     "name": "stderr",
     "output_type": "stream",
     "text": [
      "/Users/himanshu/miniforge3/lib/python3.9/site-packages/tensorflow/python/data/ops/structured_function.py:264: UserWarning: Even though the `tf.config.experimental_run_functions_eagerly` option is set, this option does not apply to tf.data functions. To force eager execution of tf.data functions, please use `tf.data.experimental.enable_debug_mode()`.\n",
      "  warnings.warn(\n"
     ]
    }
   ],
   "source": [
    "ypred_test = np.argmax(model.predict(Xtest),axis=1)"
   ]
  },
  {
   "cell_type": "code",
   "execution_count": 28,
   "id": "1420c1e9",
   "metadata": {
    "ExecuteTime": {
     "end_time": "2022-04-16T14:22:17.065225Z",
     "start_time": "2022-04-16T14:22:17.056236Z"
    }
   },
   "outputs": [
    {
     "name": "stdout",
     "output_type": "stream",
     "text": [
      "Training Accuracy:\t 0.9034153682045031\n",
      "Testing Accuracy:\t 0.85265\n"
     ]
    }
   ],
   "source": [
    "print(\"Training Accuracy:\\t\",accuracy_score(ytrain,ypred_train))\n",
    "print(\"Testing Accuracy:\\t\",accuracy_score(ytest,ypred_test))"
   ]
  },
  {
   "cell_type": "markdown",
   "id": "f855170d",
   "metadata": {},
   "source": [
    "### Inference\n",
    "\n",
    "2 layers offer better performance than 1 layer. 3 layers don't offer any significant improvement in performance, but there are indications of more overfitting with 3 layers."
   ]
  }
 ],
 "metadata": {
  "kernelspec": {
   "display_name": "Python 3 (ipykernel)",
   "language": "python",
   "name": "python3"
  },
  "language_info": {
   "codemirror_mode": {
    "name": "ipython",
    "version": 3
   },
   "file_extension": ".py",
   "mimetype": "text/x-python",
   "name": "python",
   "nbconvert_exporter": "python",
   "pygments_lexer": "ipython3",
   "version": "3.9.12"
  }
 },
 "nbformat": 4,
 "nbformat_minor": 5
}
