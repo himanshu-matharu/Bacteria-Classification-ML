{
 "cells": [
  {
   "cell_type": "code",
   "execution_count": 1,
   "id": "fc42567f-e728-495a-96e0-86bb082a6561",
   "metadata": {
    "execution": {
     "iopub.execute_input": "2022-04-16T13:28:45.599460Z",
     "iopub.status.busy": "2022-04-16T13:28:45.599020Z",
     "iopub.status.idle": "2022-04-16T13:28:48.823004Z",
     "shell.execute_reply": "2022-04-16T13:28:48.822265Z",
     "shell.execute_reply.started": "2022-04-16T13:28:45.599344Z"
    }
   },
   "outputs": [],
   "source": [
    "import pandas as pd\n",
    "import numpy as np\n",
    "import matplotlib\n",
    "import matplotlib.pyplot as plt\n",
    "\n",
    "from sklearn.metrics import accuracy_score, roc_auc_score, confusion_matrix, roc_curve\n",
    "from sklearn.preprocessing import LabelEncoder, StandardScaler\n",
    "from sklearn.model_selection import GridSearchCV, train_test_split\n",
    "from sklearn.linear_model import LogisticRegression\n",
    "from sklearn.ensemble import RandomForestClassifier, ExtraTreesClassifier\n",
    "from xgboost import XGBClassifier\n",
    "from keras.models import Model\n",
    "from keras.layers import Dense, Input\n",
    "from tensorflow.keras.utils import to_categorical\n",
    "import tensorflow as tf\n",
    "tf.config.run_functions_eagerly(True)\n",
    "\n",
    "import warnings\n",
    "warnings.filterwarnings('ignore')"
   ]
  },
  {
   "cell_type": "code",
   "execution_count": 2,
   "id": "22238cd3-7705-4828-9006-745dd1be9ee5",
   "metadata": {
    "execution": {
     "iopub.execute_input": "2022-04-16T13:28:48.824895Z",
     "iopub.status.busy": "2022-04-16T13:28:48.824674Z",
     "iopub.status.idle": "2022-04-16T13:29:41.480157Z",
     "shell.execute_reply": "2022-04-16T13:29:41.479382Z",
     "shell.execute_reply.started": "2022-04-16T13:28:48.824867Z"
    }
   },
   "outputs": [],
   "source": [
    "data1 = pd.read_csv('/datasets/bacteria_classification/data1.csv')\n",
    "data2 = pd.read_csv('/datasets/bacteria_classification/data2.csv')\n",
    "\n",
    "data = pd.concat([data1,data2],ignore_index=True)"
   ]
  },
  {
   "cell_type": "code",
   "execution_count": 3,
   "id": "2664fd45-a95b-41b9-81ce-7c45fa9028a6",
   "metadata": {
    "execution": {
     "iopub.execute_input": "2022-04-16T13:29:41.481405Z",
     "iopub.status.busy": "2022-04-16T13:29:41.481238Z",
     "iopub.status.idle": "2022-04-16T13:29:41.520458Z",
     "shell.execute_reply": "2022-04-16T13:29:41.519649Z",
     "shell.execute_reply.started": "2022-04-16T13:29:41.481382Z"
    }
   },
   "outputs": [],
   "source": [
    "# Encoding our string class values to integer values\n",
    "encoder = LabelEncoder()\n",
    "data['target'] = encoder.fit_transform(data['target'])"
   ]
  },
  {
   "cell_type": "code",
   "execution_count": 4,
   "id": "98b3a351-083e-4b8f-b87e-157d1818315b",
   "metadata": {
    "execution": {
     "iopub.execute_input": "2022-04-16T13:29:41.522348Z",
     "iopub.status.busy": "2022-04-16T13:29:41.522150Z",
     "iopub.status.idle": "2022-04-16T13:29:42.413981Z",
     "shell.execute_reply": "2022-04-16T13:29:42.413131Z",
     "shell.execute_reply.started": "2022-04-16T13:29:41.522325Z"
    }
   },
   "outputs": [],
   "source": [
    "# Splitting our data into a training set (80%) and testing set (20%)\n",
    "train, test = train_test_split(data,test_size=0.2,stratify=data['target'],random_state=42)"
   ]
  },
  {
   "cell_type": "code",
   "execution_count": 5,
   "id": "7d1cbc09-b8f1-4906-867f-ddd3bfdbe177",
   "metadata": {
    "execution": {
     "iopub.execute_input": "2022-04-16T13:29:42.415292Z",
     "iopub.status.busy": "2022-04-16T13:29:42.415046Z",
     "iopub.status.idle": "2022-04-16T13:30:06.358163Z",
     "shell.execute_reply": "2022-04-16T13:30:06.357520Z",
     "shell.execute_reply.started": "2022-04-16T13:29:42.415266Z"
    }
   },
   "outputs": [],
   "source": [
    "# Removing duplicates while assigning sample weight to each sample\n",
    "train2 = pd.DataFrame(\n",
    "    [list(tup) for tup in train.value_counts().index.values],\n",
    "    columns = train.columns\n",
    ")\n",
    "train2['sample_weight'] = train.value_counts().values"
   ]
  },
  {
   "cell_type": "code",
   "execution_count": 6,
   "id": "d046f35c-5ae1-4d35-92ae-2ba1b525b6c1",
   "metadata": {
    "execution": {
     "iopub.execute_input": "2022-04-16T13:30:06.359460Z",
     "iopub.status.busy": "2022-04-16T13:30:06.359266Z",
     "iopub.status.idle": "2022-04-16T13:30:07.230377Z",
     "shell.execute_reply": "2022-04-16T13:30:07.229387Z",
     "shell.execute_reply.started": "2022-04-16T13:30:06.359437Z"
    }
   },
   "outputs": [],
   "source": [
    "Xtrain = train2.drop(['target','sample_weight'],axis=1)\n",
    "ytrain = train2['target']\n",
    "sample_weights = train2['sample_weight']\n",
    "\n",
    "Xtest = test.drop('target',axis=1)\n",
    "ytest = test['target']"
   ]
  },
  {
   "cell_type": "markdown",
   "id": "ea7ec0d9-b0f6-4436-a99a-7c20bff68ad4",
   "metadata": {},
   "source": [
    "# Logistic Regression"
   ]
  },
  {
   "cell_type": "code",
   "execution_count": 7,
   "id": "62eeec71-f8d1-4e9e-b8da-307d9751ccc0",
   "metadata": {
    "execution": {
     "iopub.execute_input": "2022-04-16T10:23:43.382767Z",
     "iopub.status.busy": "2022-04-16T10:23:43.381923Z",
     "iopub.status.idle": "2022-04-16T10:23:43.386711Z",
     "shell.execute_reply": "2022-04-16T10:23:43.386028Z",
     "shell.execute_reply.started": "2022-04-16T10:23:43.382737Z"
    }
   },
   "outputs": [],
   "source": [
    "params = {'max_iter':[10,100,200,300,500,800,1000,1500,2000,2500,10000]}"
   ]
  },
  {
   "cell_type": "code",
   "execution_count": 8,
   "id": "57c186fe-c29d-4185-bebe-0aaeca4d4ffb",
   "metadata": {
    "execution": {
     "iopub.execute_input": "2022-04-16T10:24:29.666344Z",
     "iopub.status.busy": "2022-04-16T10:24:29.666034Z",
     "iopub.status.idle": "2022-04-16T10:28:14.457315Z",
     "shell.execute_reply": "2022-04-16T10:28:14.456377Z",
     "shell.execute_reply.started": "2022-04-16T10:24:29.666319Z"
    }
   },
   "outputs": [
    {
     "name": "stdout",
     "output_type": "stream",
     "text": [
      "Fitting 3 folds for each of 11 candidates, totalling 33 fits\n"
     ]
    }
   ],
   "source": [
    "gscv_lr = GridSearchCV(LogisticRegression(random_state=42),params,cv=3,scoring='accuracy',verbose=2,return_train_score=True,n_jobs=-1)\n",
    "\n",
    "clf_lr = gscv_lr.fit(Xtrain,ytrain,sample_weight=sample_weights)"
   ]
  },
  {
   "cell_type": "code",
   "execution_count": 9,
   "id": "c2a3c4c2-0fc0-41ef-9db0-7d3c47774632",
   "metadata": {
    "execution": {
     "iopub.execute_input": "2022-04-16T10:28:14.459296Z",
     "iopub.status.busy": "2022-04-16T10:28:14.459078Z",
     "iopub.status.idle": "2022-04-16T10:28:14.660865Z",
     "shell.execute_reply": "2022-04-16T10:28:14.660223Z",
     "shell.execute_reply.started": "2022-04-16T10:28:14.459235Z"
    }
   },
   "outputs": [
    {
     "data": {
      "image/png": "[encoded data removed]",
      "text/plain": [
       "<Figure size 432x288 with 1 Axes>"
      ]
     },
     "metadata": {
      "needs_background": "light"
     },
     "output_type": "display_data"
    }
   ],
   "source": [
    "test_scores_lr = clf_lr.cv_results_['mean_test_score']\n",
    "train_scores_lr = clf_lr.cv_results_['mean_train_score'] \n",
    "\n",
    "plt.plot(params['max_iter'],test_scores_lr, label='test')\n",
    "plt.plot(params['max_iter'],train_scores_lr, label='train')\n",
    "plt.legend(loc='best')\n",
    "plt.xlabel(\"max_iter\")\n",
    "plt.ylabel(\"accuracy\")\n",
    "plt.ylim([0.6,0.7])\n",
    "plt.title(\"Logistic Regression\")\n",
    "plt.show()"
   ]
  },
  {
   "cell_type": "code",
   "execution_count": 10,
   "id": "b4bfe1a5-e9c7-4244-9e1f-0abc98e1d50c",
   "metadata": {
    "execution": {
     "iopub.execute_input": "2022-04-16T10:29:10.715705Z",
     "iopub.status.busy": "2022-04-16T10:29:10.714896Z",
     "iopub.status.idle": "2022-04-16T10:29:10.722975Z",
     "shell.execute_reply": "2022-04-16T10:29:10.722248Z",
     "shell.execute_reply.started": "2022-04-16T10:29:10.715676Z"
    }
   },
   "outputs": [
    {
     "data": {
      "text/plain": [
       "LogisticRegression(max_iter=200, random_state=42)"
      ]
     },
     "execution_count": 10,
     "metadata": {},
     "output_type": "execute_result"
    }
   ],
   "source": [
    "clf_lr.best_estimator_"
   ]
  },
  {
   "cell_type": "markdown",
   "id": "41f97f45-2b48-4d7c-8405-df3d40caf4dd",
   "metadata": {},
   "source": [
    "# XGBoosting"
   ]
  },
  {
   "cell_type": "code",
   "execution_count": 7,
   "id": "139cf0f1-5ae7-4148-8d2d-3a72f96efe7c",
   "metadata": {
    "execution": {
     "iopub.execute_input": "2022-04-16T13:30:07.231876Z",
     "iopub.status.busy": "2022-04-16T13:30:07.231679Z",
     "iopub.status.idle": "2022-04-16T13:30:07.235317Z",
     "shell.execute_reply": "2022-04-16T13:30:07.234506Z",
     "shell.execute_reply.started": "2022-04-16T13:30:07.231853Z"
    }
   },
   "outputs": [],
   "source": [
    "params = {\n",
    "    'max_depth':[2,3],\n",
    "    'learning_rate':[0.001,0.01,0.1]\n",
    "}"
   ]
  },
  {
   "cell_type": "code",
   "execution_count": 8,
   "id": "7435c47a-060c-47bf-9938-c9bace1df05b",
   "metadata": {
    "execution": {
     "iopub.execute_input": "2022-04-16T13:30:07.236792Z",
     "iopub.status.busy": "2022-04-16T13:30:07.236504Z",
     "iopub.status.idle": "2022-04-16T13:30:07.240662Z",
     "shell.execute_reply": "2022-04-16T13:30:07.239951Z",
     "shell.execute_reply.started": "2022-04-16T13:30:07.236769Z"
    }
   },
   "outputs": [],
   "source": [
    "model_xg = XGBClassifier(\n",
    "    base_score=0.5,\n",
    "    gamma=0,\n",
    "    learning_rate=0.1,\n",
    "    max_delta_step=0,\n",
    "    max_depth=3,\n",
    "    min_child_weight=1,\n",
    "    n_estimators=100,\n",
    "    n_jobs=-1,\n",
    "    objective='multi:softprob',\n",
    "    random_state=42,\n",
    "    seed=None,\n",
    "    subsample=1,\n",
    "    verbosity=1,\n",
    "    use_label_encoder=False\n",
    ")"
   ]
  },
  {
   "cell_type": "code",
   "execution_count": 9,
   "id": "64ede54a-78ff-43e5-a854-dc5f3d64bde3",
   "metadata": {
    "execution": {
     "iopub.execute_input": "2022-04-16T13:30:07.242060Z",
     "iopub.status.busy": "2022-04-16T13:30:07.241883Z",
     "iopub.status.idle": "2022-04-16T14:18:18.203151Z",
     "shell.execute_reply": "2022-04-16T14:18:18.202371Z",
     "shell.execute_reply.started": "2022-04-16T13:30:07.242038Z"
    }
   },
   "outputs": [
    {
     "name": "stdout",
     "output_type": "stream",
     "text": [
      "Fitting 3 folds for each of 6 candidates, totalling 18 fits\n",
      "[13:30:23] WARNING: ../src/learner.cc:1115: Starting in XGBoost 1.3.0, the default evaluation metric used with the objective 'multi:softprob' was changed from 'merror' to 'mlogloss'. Explicitly set eval_metric if you'd like to restore the old behavior.\n",
      "[CV] END ...................learning_rate=0.001, max_depth=3; total time=18.1min\n",
      "[13:48:36] WARNING: ../src/learner.cc:1115: Starting in XGBoost 1.3.0, the default evaluation metric used with the objective 'multi:softprob' was changed from 'merror' to 'mlogloss'. Explicitly set eval_metric if you'd like to restore the old behavior.\n",
      "[CV] END ....................learning_rate=0.01, max_depth=3; total time=18.2min\n",
      "[13:30:22] WARNING: ../src/learner.cc:1115: Starting in XGBoost 1.3.0, the default evaluation metric used with the objective 'multi:softprob' was changed from 'merror' to 'mlogloss'. Explicitly set eval_metric if you'd like to restore the old behavior.\n",
      "[CV] END ...................learning_rate=0.001, max_depth=3; total time=18.0min\n",
      "[13:48:29] WARNING: ../src/learner.cc:1115: Starting in XGBoost 1.3.0, the default evaluation metric used with the objective 'multi:softprob' was changed from 'merror' to 'mlogloss'. Explicitly set eval_metric if you'd like to restore the old behavior.\n",
      "[CV] END ....................learning_rate=0.01, max_depth=3; total time=18.7min\n",
      "[13:30:24] WARNING: ../src/learner.cc:1115: Starting in XGBoost 1.3.0, the default evaluation metric used with the objective 'multi:softprob' was changed from 'merror' to 'mlogloss'. Explicitly set eval_metric if you'd like to restore the old behavior.\n",
      "[CV] END ...................learning_rate=0.001, max_depth=3; total time=18.9min\n",
      "[13:49:24] WARNING: ../src/learner.cc:1115: Starting in XGBoost 1.3.0, the default evaluation metric used with the objective 'multi:softprob' was changed from 'merror' to 'mlogloss'. Explicitly set eval_metric if you'd like to restore the old behavior.\n",
      "[CV] END ....................learning_rate=0.01, max_depth=3; total time=18.0min\n",
      "[14:15:17] WARNING: ../src/learner.cc:1115: Starting in XGBoost 1.3.0, the default evaluation metric used with the objective 'multi:softprob' was changed from 'merror' to 'mlogloss'. Explicitly set eval_metric if you'd like to restore the old behavior.\n"
     ]
    }
   ],
   "source": [
    "gscv_xg = GridSearchCV(model_xg,params,cv=3,scoring='accuracy',verbose=2,return_train_score=True,n_jobs=-1)\n",
    "\n",
    "clf_xg = gscv_xg.fit(Xtrain,ytrain,sample_weight=sample_weights)"
   ]
  },
  {
   "cell_type": "code",
   "execution_count": 10,
   "id": "f4f8a675-23d1-4a6e-980a-01cdf3b1064e",
   "metadata": {
    "execution": {
     "iopub.execute_input": "2022-04-16T14:18:18.205682Z",
     "iopub.status.busy": "2022-04-16T14:18:18.205078Z",
     "iopub.status.idle": "2022-04-16T14:18:18.370397Z",
     "shell.execute_reply": "2022-04-16T14:18:18.369780Z",
     "shell.execute_reply.started": "2022-04-16T14:18:18.205656Z"
    }
   },
   "outputs": [
    {
     "data": {
      "image/png": "[encoded data removed]",
      "text/plain": [
       "<Figure size 432x288 with 1 Axes>"
      ]
     },
     "metadata": {
      "needs_background": "light"
     },
     "output_type": "display_data"
    }
   ],
   "source": [
    "test_scores_xg = clf_xg.cv_results_['mean_test_score']\n",
    "train_scores_xg = clf_xg.cv_results_['mean_train_score'] \n",
    "\n",
    "plt.plot(test_scores_xg, label='test')\n",
    "plt.plot(train_scores_xg, label='train')\n",
    "plt.legend(loc='best')\n",
    "plt.xlabel(\"max_iter\")\n",
    "plt.ylabel(\"accuracy\")\n",
    "plt.title(\"XGBoosting\")\n",
    "plt.show()"
   ]
  },
  {
   "cell_type": "code",
   "execution_count": 11,
   "id": "26ce0928-2bf8-4013-a8f0-6213b75b824b",
   "metadata": {
    "execution": {
     "iopub.execute_input": "2022-04-16T14:18:18.371672Z",
     "iopub.status.busy": "2022-04-16T14:18:18.371436Z",
     "iopub.status.idle": "2022-04-16T14:18:18.382023Z",
     "shell.execute_reply": "2022-04-16T14:18:18.381341Z",
     "shell.execute_reply.started": "2022-04-16T14:18:18.371647Z"
    }
   },
   "outputs": [
    {
     "data": {
      "text/plain": [
       "XGBClassifier(base_score=0.5, booster='gbtree', colsample_bylevel=1,\n",
       "              colsample_bynode=1, colsample_bytree=1, enable_categorical=False,\n",
       "              gamma=0, gpu_id=-1, importance_type=None,\n",
       "              interaction_constraints='', learning_rate=0.1, max_delta_step=0,\n",
       "              max_depth=3, min_child_weight=1, missing=nan,\n",
       "              monotone_constraints='()', n_estimators=100, n_jobs=-1,\n",
       "              num_parallel_tree=1, objective='multi:softprob', predictor='auto',\n",
       "              random_state=42, reg_alpha=0, reg_lambda=1, scale_pos_weight=None,\n",
       "              seed=42, subsample=1, tree_method='exact',\n",
       "              use_label_encoder=False, validate_parameters=1, ...)"
      ]
     },
     "execution_count": 11,
     "metadata": {},
     "output_type": "execute_result"
    },
    {
     "name": "stdout",
     "output_type": "stream",
     "text": [
      "[13:30:20] WARNING: ../src/learner.cc:1115: Starting in XGBoost 1.3.0, the default evaluation metric used with the objective 'multi:softprob' was changed from 'merror' to 'mlogloss'. Explicitly set eval_metric if you'd like to restore the old behavior.\n",
      "[CV] END ...................learning_rate=0.001, max_depth=2; total time=11.7min\n",
      "[13:42:08] WARNING: ../src/learner.cc:1115: Starting in XGBoost 1.3.0, the default evaluation metric used with the objective 'multi:softprob' was changed from 'merror' to 'mlogloss'. Explicitly set eval_metric if you'd like to restore the old behavior.\n",
      "[CV] END ....................learning_rate=0.01, max_depth=2; total time=12.3min\n",
      "[13:54:23] WARNING: ../src/learner.cc:1115: Starting in XGBoost 1.3.0, the default evaluation metric used with the objective 'multi:softprob' was changed from 'merror' to 'mlogloss'. Explicitly set eval_metric if you'd like to restore the old behavior.\n",
      "[CV] END .....................learning_rate=0.1, max_depth=2; total time=11.7min\n",
      "[14:06:13] WARNING: ../src/learner.cc:1115: Starting in XGBoost 1.3.0, the default evaluation metric used with the objective 'multi:softprob' was changed from 'merror' to 'mlogloss'. Explicitly set eval_metric if you'd like to restore the old behavior.\n",
      "[CV] END .....................learning_rate=0.1, max_depth=3; total time= 9.3min\n",
      "[13:30:19] WARNING: ../src/learner.cc:1115: Starting in XGBoost 1.3.0, the default evaluation metric used with the objective 'multi:softprob' was changed from 'merror' to 'mlogloss'. Explicitly set eval_metric if you'd like to restore the old behavior.\n",
      "[CV] END ...................learning_rate=0.001, max_depth=2; total time=11.8min\n",
      "[13:42:13] WARNING: ../src/learner.cc:1115: Starting in XGBoost 1.3.0, the default evaluation metric used with the objective 'multi:softprob' was changed from 'merror' to 'mlogloss'. Explicitly set eval_metric if you'd like to restore the old behavior.\n",
      "[CV] END ....................learning_rate=0.01, max_depth=2; total time=11.8min\n",
      "[13:54:04] WARNING: ../src/learner.cc:1115: Starting in XGBoost 1.3.0, the default evaluation metric used with the objective 'multi:softprob' was changed from 'merror' to 'mlogloss'. Explicitly set eval_metric if you'd like to restore the old behavior.\n",
      "[CV] END .....................learning_rate=0.1, max_depth=2; total time=12.2min\n",
      "[14:06:22] WARNING: ../src/learner.cc:1115: Starting in XGBoost 1.3.0, the default evaluation metric used with the objective 'multi:softprob' was changed from 'merror' to 'mlogloss'. Explicitly set eval_metric if you'd like to restore the old behavior.\n",
      "[CV] END .....................learning_rate=0.1, max_depth=3; total time= 9.2min\n",
      "[13:30:19] WARNING: ../src/learner.cc:1115: Starting in XGBoost 1.3.0, the default evaluation metric used with the objective 'multi:softprob' was changed from 'merror' to 'mlogloss'. Explicitly set eval_metric if you'd like to restore the old behavior.\n",
      "[CV] END ...................learning_rate=0.001, max_depth=2; total time=12.1min\n",
      "[13:42:31] WARNING: ../src/learner.cc:1115: Starting in XGBoost 1.3.0, the default evaluation metric used with the objective 'multi:softprob' was changed from 'merror' to 'mlogloss'. Explicitly set eval_metric if you'd like to restore the old behavior.\n",
      "[CV] END ....................learning_rate=0.01, max_depth=2; total time=11.7min\n",
      "[13:54:14] WARNING: ../src/learner.cc:1115: Starting in XGBoost 1.3.0, the default evaluation metric used with the objective 'multi:softprob' was changed from 'merror' to 'mlogloss'. Explicitly set eval_metric if you'd like to restore the old behavior.\n",
      "[CV] END .....................learning_rate=0.1, max_depth=2; total time=11.9min\n",
      "[14:06:08] WARNING: ../src/learner.cc:1115: Starting in XGBoost 1.3.0, the default evaluation metric used with the objective 'multi:softprob' was changed from 'merror' to 'mlogloss'. Explicitly set eval_metric if you'd like to restore the old behavior.\n",
      "[CV] END .....................learning_rate=0.1, max_depth=3; total time= 9.3min\n"
     ]
    }
   ],
   "source": [
    "clf_xg.best_estimator_"
   ]
  },
  {
   "cell_type": "markdown",
   "id": "b909ade8-497e-49bd-8e2b-31ef0e159a90",
   "metadata": {},
   "source": [
    "# Random Forest"
   ]
  },
  {
   "cell_type": "code",
   "execution_count": 12,
   "id": "ef19202b-1f48-4f80-988c-4671b3740767",
   "metadata": {
    "execution": {
     "iopub.execute_input": "2022-04-16T14:29:59.505664Z",
     "iopub.status.busy": "2022-04-16T14:29:59.505421Z",
     "iopub.status.idle": "2022-04-16T14:29:59.509869Z",
     "shell.execute_reply": "2022-04-16T14:29:59.508943Z",
     "shell.execute_reply.started": "2022-04-16T14:29:59.505640Z"
    }
   },
   "outputs": [],
   "source": [
    "params = {\n",
    "    'max_depth':[2,3,None]\n",
    "}"
   ]
  },
  {
   "cell_type": "code",
   "execution_count": 13,
   "id": "c68c92ef-1c92-4d33-84fa-42b3913348be",
   "metadata": {
    "execution": {
     "iopub.execute_input": "2022-04-16T14:31:29.239296Z",
     "iopub.status.busy": "2022-04-16T14:31:29.238999Z",
     "iopub.status.idle": "2022-04-16T14:31:29.243779Z",
     "shell.execute_reply": "2022-04-16T14:31:29.243106Z",
     "shell.execute_reply.started": "2022-04-16T14:31:29.239269Z"
    }
   },
   "outputs": [],
   "source": [
    "model_rf = RandomForestClassifier(\n",
    "    n_estimators = 1500,\n",
    "    bootstrap=True,\n",
    "    oob_score=True,\n",
    "    n_jobs=-1,\n",
    "    random_state=42,\n",
    "    warm_start=False,\n",
    "    min_samples_split=2\n",
    ")"
   ]
  },
  {
   "cell_type": "code",
   "execution_count": 14,
   "id": "eca62517-6757-47dd-b24d-82395413c383",
   "metadata": {
    "execution": {
     "iopub.execute_input": "2022-04-16T14:32:01.778273Z",
     "iopub.status.busy": "2022-04-16T14:32:01.777977Z",
     "iopub.status.idle": "2022-04-16T14:50:49.197914Z",
     "shell.execute_reply": "2022-04-16T14:50:49.197044Z",
     "shell.execute_reply.started": "2022-04-16T14:32:01.778244Z"
    }
   },
   "outputs": [
    {
     "name": "stdout",
     "output_type": "stream",
     "text": [
      "Fitting 3 folds for each of 3 candidates, totalling 9 fits\n",
      "[CV] END ........................................max_depth=3; total time= 4.9min\n",
      "[CV] END ........................................max_depth=3; total time= 5.2min\n",
      "[CV] END ........................................max_depth=3; total time= 5.8min\n",
      "[CV] END ........................................max_depth=2; total time= 4.5min\n",
      "[CV] END .....................................max_depth=None; total time= 8.6min\n",
      "[CV] END ........................................max_depth=2; total time= 4.4min\n",
      "[CV] END .....................................max_depth=None; total time= 9.0min\n",
      "[CV] END ........................................max_depth=2; total time= 4.7min\n",
      "[CV] END .....................................max_depth=None; total time= 8.6min\n"
     ]
    }
   ],
   "source": [
    "gscv_rf = GridSearchCV(model_rf,params,cv=3,scoring='accuracy',verbose=2,return_train_score=True,n_jobs=-1)\n",
    "\n",
    "clf_rf = gscv_rf.fit(Xtrain,ytrain,sample_weight=sample_weights)"
   ]
  },
  {
   "cell_type": "code",
   "execution_count": 15,
   "id": "047fdc44-3b57-4515-8166-6018d1462b52",
   "metadata": {
    "execution": {
     "iopub.execute_input": "2022-04-16T14:50:49.200286Z",
     "iopub.status.busy": "2022-04-16T14:50:49.200047Z",
     "iopub.status.idle": "2022-04-16T14:50:49.382294Z",
     "shell.execute_reply": "2022-04-16T14:50:49.381669Z",
     "shell.execute_reply.started": "2022-04-16T14:50:49.200263Z"
    }
   },
   "outputs": [
    {
     "data": {
      "image/png": "[encoded data removed]",
      "text/plain": [
       "<Figure size 432x288 with 1 Axes>"
      ]
     },
     "metadata": {
      "needs_background": "light"
     },
     "output_type": "display_data"
    }
   ],
   "source": [
    "test_scores_rf = clf_rf.cv_results_['mean_test_score']\n",
    "train_scores_rf = clf_rf.cv_results_['mean_train_score'] \n",
    "\n",
    "plt.plot(test_scores_rf, label='test')\n",
    "plt.plot(train_scores_rf, label='train')\n",
    "plt.legend(loc='best')\n",
    "plt.xlabel(\"max_iter\")\n",
    "plt.ylabel(\"accuracy\")\n",
    "plt.title(\"Random Forest\")\n",
    "plt.show()"
   ]
  },
  {
   "cell_type": "code",
   "execution_count": 16,
   "id": "8a8e81f4-4151-45c5-a025-b50222bc1e4b",
   "metadata": {
    "execution": {
     "iopub.execute_input": "2022-04-16T14:52:47.935721Z",
     "iopub.status.busy": "2022-04-16T14:52:47.935279Z",
     "iopub.status.idle": "2022-04-16T14:52:47.940735Z",
     "shell.execute_reply": "2022-04-16T14:52:47.940240Z",
     "shell.execute_reply.started": "2022-04-16T14:52:47.935696Z"
    }
   },
   "outputs": [
    {
     "data": {
      "text/plain": [
       "RandomForestClassifier(n_estimators=1500, n_jobs=-1, oob_score=True,\n",
       "                       random_state=42)"
      ]
     },
     "execution_count": 16,
     "metadata": {},
     "output_type": "execute_result"
    }
   ],
   "source": [
    "clf_rf.best_estimator_"
   ]
  },
  {
   "cell_type": "code",
   "execution_count": null,
   "id": "1a159acd-00bf-4769-a275-dd259de9a4c3",
   "metadata": {},
   "outputs": [],
   "source": []
  }
 ],
 "metadata": {
  "kernelspec": {
   "display_name": "Python 3 (ipykernel)",
   "language": "python",
   "name": "python3"
  },
  "language_info": {
   "codemirror_mode": {
    "name": "ipython",
    "version": 3
   },
   "file_extension": ".py",
   "mimetype": "text/x-python",
   "name": "python",
   "nbconvert_exporter": "python",
   "pygments_lexer": "ipython3",
   "version": "3.8.10"
  }
 },
 "nbformat": 4,
 "nbformat_minor": 5
}
